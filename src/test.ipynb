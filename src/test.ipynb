{
 "cells": [
  {
   "cell_type": "code",
   "execution_count": 1,
   "id": "179e3833",
   "metadata": {},
   "outputs": [],
   "source": [
    "import polars as pl\n",
    "from argparse import ArgumentParser\n",
    "from pathlib import Path\n",
    "from prep_data import *\n",
    "from utils import get_memory_usage"
   ]
  },
  {
   "cell_type": "code",
   "execution_count": 2,
   "id": "670f0e44",
   "metadata": {},
   "outputs": [
    {
     "name": "stdout",
     "output_type": "stream",
     "text": [
      "Memory usage: 77.96 MB\n"
     ]
    }
   ],
   "source": [
    "print(f\"Memory usage: {get_memory_usage():.2f} MB\")\n"
   ]
  },
  {
   "cell_type": "code",
   "execution_count": 3,
   "id": "6c7bc49f",
   "metadata": {},
   "outputs": [
    {
     "name": "stdout",
     "output_type": "stream",
     "text": [
      "Memory usage: 4555.25 MB\n"
     ]
    }
   ],
   "source": [
    "players_df = get_players_df()\n",
    "plays_df = get_plays_df()\n",
    "tracking_df = get_tracking_df()\n",
    "print(f\"Memory usage: {get_memory_usage():.2f} MB\")"
   ]
  },
  {
   "cell_type": "code",
   "execution_count": 4,
   "id": "43b9a167",
   "metadata": {},
   "outputs": [
    {
     "name": "stdout",
     "output_type": "stream",
     "text": [
      "Memory usage: 8841.74 MB\n"
     ]
    }
   ],
   "source": [
    "\n",
    "\n",
    "tracking_df = add_features_to_tracking_df(tracking_df, players_df, plays_df)\n",
    "del players_df, plays_df\n",
    "tracking_df = convert_tracking_to_cartesian(tracking_df)\n",
    "tracking_df = standardize_tracking_directions(tracking_df)\n",
    "tracking_df = augment_mirror_tracking(tracking_df)\n",
    "print(f\"Memory usage: {get_memory_usage():.2f} MB\")\n"
   ]
  },
  {
   "cell_type": "code",
   "execution_count": 5,
   "id": "0abbac21",
   "metadata": {},
   "outputs": [
    {
     "name": "stdout",
     "output_type": "stream",
     "text": [
      "Memory usage after adding relative positions: 14380.21 MB\n",
      "Memory usage after deleting tracking_df: 11311.87 MB\n"
     ]
    }
   ],
   "source": [
    "rel_tracking_df = add_relative_positions(tracking_df)\n",
    "print(f\"Memory usage after adding relative positions: {get_memory_usage():.2f} MB\")\n",
    "del tracking_df  # Free memory\n",
    "print(f\"Memory usage after deleting tracking_df: {get_memory_usage():.2f} MB\")\n"
   ]
  },
  {
   "cell_type": "code",
   "execution_count": 6,
   "id": "4d0bf02a",
   "metadata": {},
   "outputs": [
    {
     "name": "stdout",
     "output_type": "stream",
     "text": [
      "Lost 0.040% plays when joining with tackle_loc_df\n",
      "Memory usage: 11453.57 MB\n"
     ]
    }
   ],
   "source": [
    "tkl_loc_tgt_df, rel_tracking_df = get_tackle_loc_target_df(rel_tracking_df)\n",
    "print(f\"Memory usage: {get_memory_usage():.2f} MB\")\n"
   ]
  },
  {
   "cell_type": "code",
   "execution_count": null,
   "id": "f2f1b71a",
   "metadata": {},
   "outputs": [
    {
     "name": "stdout",
     "output_type": "stream",
     "text": [
      "Total set: 24956 plays, 1059214 frames\n",
      "Train set: 17470 plays, 740590 frames\n",
      "Test set: 3742 plays, 160124 frames\n",
      "Validation set: 3744 plays, 158500 frames\n"
     ]
    }
   ],
   "source": [
    "split_dfs = split_train_test_val(rel_tracking_df, tkl_loc_tgt_df)\n",
    "del rel_tracking_df, tkl_loc_tgt_df\n",
    "print(f\"Memory usage after splitting: {get_memory_usage():.2f} MB\")"
   ]
  },
  {
   "cell_type": "code",
   "execution_count": 8,
   "id": "49c0bcb8",
   "metadata": {},
   "outputs": [],
   "source": [
    "out_dir = Path(\"data/split_prepped_data/\")\n",
    "out_dir.mkdir(exist_ok=True, parents=True)\n",
    "\n",
    "for key, df in split_dfs.items():\n",
    "    sort_keys = [\"gameId\", \"playId\", \"mirrored\", \"frameId\"]\n",
    "    df.sort(sort_keys).write_parquet(out_dir / f\"{key}.parquet\")\n"
   ]
  }
 ],
 "metadata": {
  "kernelspec": {
   "display_name": "SportsTrackingTransformer",
   "language": "python",
   "name": "python3"
  },
  "language_info": {
   "codemirror_mode": {
    "name": "ipython",
    "version": 3
   },
   "file_extension": ".py",
   "mimetype": "text/x-python",
   "name": "python",
   "nbconvert_exporter": "python",
   "pygments_lexer": "ipython3",
   "version": "3.12.3"
  }
 },
 "nbformat": 4,
 "nbformat_minor": 5
}
